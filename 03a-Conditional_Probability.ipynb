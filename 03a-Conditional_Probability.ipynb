{
 "cells": [
  {
   "cell_type": "code",
   "execution_count": 2,
   "metadata": {},
   "outputs": [],
   "source": [
    "import numpy as np\n",
    "import matplotlib.pyplot as plt\n",
    "\n",
    "from matplotlib.patches import Rectangle\n",
    "\n",
    "from ipywidgets import interact\n",
    "import ipywidgets as widgets"
   ]
  },
  {
   "cell_type": "markdown",
   "metadata": {},
   "source": [
    "# Conditional Probability\n",
    "\n",
    "## Probability as area\n",
    "\n",
    "In this notebook, we will introduce concepts of conditional probability and the Bernoulli distribution. First, let us develop some geometrical intuitions. In order to do that, we have to become familiar with the idea that we can visualize probability as area. In the following plot, the area painted in blue relative to the total area of the square is the probability that a random variable $A$ is equal to $0$: $P(A = 0)$. Since in our example $A$ is binary, it can only be $0$ or $1$ and thus $P(A = 1) = 1 - P(A = 0)$."
   ]
  },
  {
   "cell_type": "code",
   "execution_count": 3,
   "metadata": {},
   "outputs": [
    {
     "data": {
      "image/png": "[encoded data removed]",
      "text/plain": [
       "<Figure size 432x288 with 1 Axes>"
      ]
     },
     "metadata": {
      "needs_background": "light"
     },
     "output_type": "display_data"
    }
   ],
   "source": [
    "@interact(pA=widgets.FloatSlider(min=0., max=1., value=0.5, description=\"P(A=1)\"))\n",
    "def plot_areas(pA):\n",
    "    f, ax = plt.subplots()\n",
    "    ax.set_aspect(\"equal\")\n",
    "\n",
    "    A0 = Rectangle(xy=[0, 0], width=1-pA, height=1., color=\"C0\", label=\"A = 0\")\n",
    "    A1 = Rectangle(xy=[1-pA, 0], width=pA, height=1., color=\"C1\", label=\"A = 1\")\n",
    "    ax.add_patch(A0)\n",
    "    ax.add_patch(A1)\n",
    "    ax.legend()"
   ]
  },
  {
   "cell_type": "markdown",
   "metadata": {},
   "source": [
    "When you increase $P(A = 1)$, the fraction of the area that is occupied by the cases in which $A = 1$ increases."
   ]
  },
  {
   "cell_type": "markdown",
   "metadata": {},
   "source": [
    "## Conditional probability\n",
    "\n",
    "We now introduce the concept of conditional probability. Conditional probabiltiy is the probability of one event given that you know (or assume) another event has happened. More formally, we speak of the probability of B given A, which we write as $P(B | A)$. It is defined as\n",
    "\n",
    "\\begin{align}\n",
    "     P(B | A) = \\frac{P(B, A)}{P(A)},\n",
    "\\end{align}\n",
    "\n",
    "i.e. the probability of B and A divided by the probability of $A$. Let's visualize this. In the following interactive plot, the variable $B$ is indicated by a lighter color of the area. The joint probability $P(B = 1, A = 0)$ is the light blue area: the area in which both $A = 0$ AND $B = 1$. The conditional probability $P(B = 1 | A = 0)$ is a relative quantity. It is the fraction of the blue area $P(A = 0)$, in which $B = 1$. In other words: of all the cases: if we know that $A = 0$, we only have to look at the blue part of our space. The conditional probability tells us, in which of these cases $B$ takes some particularly value. "
   ]
  },
  {
   "cell_type": "code",
   "execution_count": 4,
   "metadata": {},
   "outputs": [
    {
     "data": {
      "image/png": "[encoded data removed]",
      "text/plain": [
       "<Figure size 432x288 with 1 Axes>"
      ]
     },
     "metadata": {
      "needs_background": "light"
     },
     "output_type": "display_data"
    }
   ],
   "source": [
    "@interact(pAis1=widgets.FloatSlider(min=0., max=1., value=0.5, description=\"P(A=1)\"),\n",
    "         pBis1_given_Ais0=widgets.FloatSlider(min=0., max=1, value=0.2, description=\"P(B=1 | A=0)\"),\n",
    "         pBis1_given_Ais1=widgets.FloatSlider(min=0., max=1, value=0.7, description=\"P(B=1 | A=1)\"))\n",
    "def plot_areas(pAis1, pBis1_given_Ais0, pBis1_given_Ais1):\n",
    "    f, ax = plt.subplots()\n",
    "    ax.set_aspect(\"equal\")\n",
    "    \n",
    "    # probability of A\n",
    "    pA = np.array([1 - pAis1, pAis1])\n",
    "    \n",
    "    # conditional probability table for B given A\n",
    "    pB_given_A = np.array([[1 - pBis1_given_Ais0, pBis1_given_Ais0], \n",
    "                          [1 - pBis1_given_Ais1, pBis1_given_Ais1]])\n",
    "\n",
    "\n",
    "    A0B0 = Rectangle(xy=[0, 0], width=pA[0], height=pB_given_A[0, 0], color=\"C0\", label=\"A = 0, B = 0\")\n",
    "    A0B1 = Rectangle(xy=[0, pB_given_A[0, 0]], width=pA[0], height=pB_given_A[0, 1], color=\"C0\", \n",
    "                     label=\"A = 0, B = 1\", alpha=0.5)\n",
    "    \n",
    "    A1B0 = Rectangle(xy=[pA[0], 0], width=pA[1], height=pB_given_A[1, 0], color=\"C1\", label=\"A = 1, B = 0\")\n",
    "    A1B1 = Rectangle(xy=[pA[0], pB_given_A[1, 0]], width=pA[1], height=pB_given_A[1, 1], color=\"C1\", \n",
    "                     label=\"A = 1, B = 1\", alpha=0.5)\n",
    "    \n",
    "    # add rectangles to canvas\n",
    "    [ax.add_patch(patch) for patch in [A0B0, A0B1, A1B0, A1B1]]\n",
    "\n",
    "    ax.legend()"
   ]
  },
  {
   "cell_type": "markdown",
   "metadata": {},
   "source": [
    "## Independence\n",
    "\n",
    "Two RVs are said to be independent if \n",
    "\n",
    "\\begin{align}\n",
    "    P(B | A) = P(B)\n",
    "\\end{align}\n",
    "\n",
    "What does this mean? Knowing a tells us nothing about B. In our area example, you can see that if $B$ is independent of $A$, the fraction of the area that is lighter is the same, no matter the color. This is precisely the definition of independence, which we stated mathematically above."
   ]
  },
  {
   "cell_type": "code",
   "execution_count": 5,
   "metadata": {},
   "outputs": [
    {
     "data": {
      "image/png": "[encoded data removed]",
      "text/plain": [
       "<Figure size 432x288 with 1 Axes>"
      ]
     },
     "metadata": {
      "needs_background": "light"
     },
     "output_type": "display_data"
    }
   ],
   "source": [
    "@interact(pAis1=widgets.FloatSlider(min=0., max=1., value=0.5, description=\"P(A=1)\"),\n",
    "         pBis1=widgets.FloatSlider(min=0., max=1, value=0.2, description=\"P(B=1)\"))\n",
    "def plot_areas_independent(pAis1, pBis1):\n",
    "    f, ax = plt.subplots()\n",
    "    ax.set_aspect(\"equal\")\n",
    "    \n",
    "    # probability of A\n",
    "    pA = np.array([1 - pAis1, pAis1])\n",
    "    \n",
    "    # conditional probability table for B given A\n",
    "    pB = np.array([1 - pBis1, pBis1])\n",
    "\n",
    "\n",
    "    A0B0 = Rectangle(xy=[0, 0], width=pA[0], height=pB[0], color=\"C0\", label=\"A = 0, B = 0\")\n",
    "    A0B1 = Rectangle(xy=[0, pB[0]], width=pA[0], height=pB[1], color=\"C0\", \n",
    "                     label=\"A = 0, B = 1\", alpha=0.5)\n",
    "    \n",
    "    A1B0 = Rectangle(xy=[pA[0], 0], width=pA[1], height=pB[0], color=\"C1\", label=\"A = 1, B = 0\")\n",
    "    A1B1 = Rectangle(xy=[pA[0], pB[0]], width=pA[1], height=pB[1], color=\"C1\", \n",
    "                     label=\"A = 1, B = 1\", alpha=0.5)\n",
    "    \n",
    "    # add rectangles to canvas\n",
    "    [ax.add_patch(patch) for patch in [A0B0, A0B1, A1B0, A1B1]]\n",
    "\n",
    "    ax.legend()"
   ]
  },
  {
   "cell_type": "markdown",
   "metadata": {},
   "source": [
    "An equivalent definition of indpendence is\n",
    "\n",
    "\\begin{align}\n",
    "    P(A, B) = P(A) P(B).\n",
    "\\end{align}\n",
    "\n",
    "This follows from the rules of probability. First, we use the chain rule and then plug in our definition from above:\n",
    "\n",
    "\\begin{align}\n",
    "    P(A, B) = P(A) P(B | A) = P(A) P(B).\n",
    "\\end{align}\n",
    "\n",
    "Another important rule, which we will need later is the sum rule:\n",
    "\n",
    "\\begin{align}\n",
    "P(B) = \\sum_A P(A, B) = \\sum_A P(B | A) P(A).\n",
    "\\end{aling}\n",
    "\n",
    "These are all the rules of probability we will need in this class. The rest follows from these."
   ]
  },
  {
   "cell_type": "code",
   "execution_count": null,
   "metadata": {},
   "outputs": [],
   "source": []
  }
 ],
 "metadata": {
  "kernelspec": {
   "display_name": "Python 3",
   "language": "python",
   "name": "python3"
  },
  "language_info": {
   "codemirror_mode": {
    "name": "ipython",
    "version": 3
   },
   "file_extension": ".py",
   "mimetype": "text/x-python",
   "name": "python",
   "nbconvert_exporter": "python",
   "pygments_lexer": "ipython3",
   "version": "3.8.8"
  }
 },
 "nbformat": 4,
 "nbformat_minor": 4
}
