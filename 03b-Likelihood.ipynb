{
 "cells": [
  {
   "cell_type": "code",
   "execution_count": 2,
   "metadata": {},
   "outputs": [],
   "source": [
    "import numpy as np\n",
    "import matplotlib.pyplot as plt\n",
    "\n",
    "from matplotlib.patches import Rectangle\n",
    "\n",
    "from ipywidgets import interact\n",
    "import ipywidgets as widgets"
   ]
  },
  {
   "cell_type": "markdown",
   "metadata": {},
   "source": [
    "# Likelihood I\n",
    "\n",
    "## Binomial distribution"
   ]
  },
  {
   "cell_type": "markdown",
   "metadata": {},
   "source": [
    "### The Bernoulli distribution\n",
    "\n",
    "A random variable $A$ which can take one of two discrete states with a probability $\\theta$ of taking the first state (like you have seen above) is called a Bernoulli RV.  Its probability mass function is\n",
    "\n",
    "\\begin{align}\n",
    "    P(A = 1) = \\theta\n",
    "\\end{align}\n",
    "\n",
    "Pretty straightforward, right? The standard example is a coin toss, where $\\theta = \\frac{1}{2}$ for a fair coin. For this reason, it is often called a \"success\" in the statistical literature when the RV is equal to one.\n",
    "\n",
    "Let's look at the probability mass function. Notice how it is pretty much the same as our area plot in the first notebook."
   ]
  },
  {
   "cell_type": "code",
   "execution_count": 8,
   "metadata": {},
   "outputs": [
    {
     "data": {
      "application/vnd.jupyter.widget-view+json": {
       "model_id": "0e62bf1cd8254e5fb5bd58b330bb3025",
       "version_major": 2,
       "version_minor": 0
      },
      "text/plain": [
       "interactive(children=(FloatSlider(value=0.5, description='$\\\\theta$', max=1.0), Output()), _dom_classes=('widg…"
      ]
     },
     "metadata": {},
     "output_type": "display_data"
    }
   ],
   "source": [
    "@interact(theta=widgets.FloatSlider(min=0., max=1., value=0.5, description=r\"$\\theta$\"))\n",
    "def plot_bernoulli_pmf(theta):\n",
    "    bar = plt.bar([0, 1], [1-theta, theta])\n",
    "    bar[1].set_color(\"C1\")\n",
    "\n",
    "    plt.ylim(0, 1)"
   ]
  },
  {
   "cell_type": "markdown",
   "metadata": {},
   "source": [
    "### The binomial distribution"
   ]
  },
  {
   "cell_type": "markdown",
   "metadata": {},
   "source": [
    "It becomes a little more interesting when we sample $n$ Bernoulli RVs and ask the question how many of them are equal to 1. This number of successes $k$ for a sequence of $n$ Bernoulli trials is called a binomial RV. The probability mass function is:\n",
    "\n",
    "\\begin{align}\n",
    "    P(X = k | \\theta) = {n \\choose k} \\theta^k (1 - \\theta)^{n - k}.\n",
    "\\end{align}\n",
    "\n",
    "The first term in the equation ${n \\choose k}$ is the number of possible ways for choosing $k$ out of $n$ elements. It is known as the binomial coefficient, hence the name of the distribution. The next term is the probability that $k$ successes followed by the probability of $n - k$ failures. Take a look at the binomial distribution for different values of $n$, and $\\theta$. "
   ]
  },
  {
   "cell_type": "code",
   "execution_count": 9,
   "metadata": {},
   "outputs": [
    {
     "data": {
      "application/vnd.jupyter.widget-view+json": {
       "model_id": "965b19e6ef7445a497b4c6a1f4312c7b",
       "version_major": 2,
       "version_minor": 0
      },
      "text/plain": [
       "interactive(children=(FloatSlider(value=0.5, description='$\\\\theta$', max=1.0), IntSlider(value=10, descriptio…"
      ]
     },
     "metadata": {},
     "output_type": "display_data"
    }
   ],
   "source": [
    "from scipy.special import comb\n",
    "\n",
    "def binomial_pmf(theta, n, k):\n",
    "    return comb(n, k) * theta**k * (1 - theta)**(n - k)\n",
    "\n",
    "@interact(theta=widgets.FloatSlider(min=0., max=1., value=0.5, description=r\"$\\theta$\"),\n",
    "         n=widgets.IntSlider(min=1, max=100, step=1, value=10), description=r\"$n$\")\n",
    "def plot_binomial(theta, n):\n",
    "    k = np.arange(0, n + 1)\n",
    "    \n",
    "    p = binomial_pmf(theta, n, k)\n",
    "    \n",
    "    plt.bar(k, p)\n",
    "    plt.xlabel(r\"$k$\")\n",
    "    plt.ylabel(r\"$p(k | \\theta)$\")"
   ]
  },
  {
   "cell_type": "markdown",
   "metadata": {},
   "source": [
    "Notice how:\n",
    "\n",
    "- the distribution becomes more skewed when $\\theta$ is closer to 0 or 1\n",
    "- the Bernoulli distribution is special case of the binomial for $n = 1$\n",
    "- ..."
   ]
  },
  {
   "cell_type": "markdown",
   "metadata": {},
   "source": [
    "## The likelihood function"
   ]
  },
  {
   "cell_type": "markdown",
   "metadata": {},
   "source": [
    "The probability mass function of the binomial distribution as seen in the visualization above gives you the probability of each value of $k$ given a fixed $\\theta$. It is the conditional distribution of $k$ given $\\theta$. In most realistic scenarios, however, we do not know the true probability $\\theta$, but merely have a measurement of $k$ and $n$. For example, in a decision making task, we have observed that a subject has made $k = 24$ correct decisions in $n = 32$ trials. We now want to know their probability of making a correct decision. It seems straightforward to say \"Of course it is 24 / 32 =  0.75\". But why is that? Can we make our intuition more formal?\n",
    "\n",
    "We can do this by introducing the concept of a likelihood function. The likelihood function is the probability mass function $P(X = k | \\theta)$ as a function of $\\theta$. It is not a probability distribution w.r.t. $\\theta$, since it does not normalize to 1 when integrating over all possible values of $\\theta$.\n",
    "\n",
    "Let us look at the likelihood function. It tells us how likely the data we observed are given different values of $\\theta$. Implement the following steps:\n",
    "\n",
    "1. Choose a true value for $\\theta$\n",
    "2. Sample the number of successes $k$ for a number of trials $n$ from the Binomial distribution, see https://docs.scipy.org/doc/scipy/reference/generated/scipy.stats.binom.html\n",
    "3. Plot the likelihood function.\n",
    "4. What would be a good guess $\\hat \\theta$ about $\\theta$ based on this likelihood function? Does this agree with our intuition from above?"
   ]
  },
  {
   "cell_type": "code",
   "execution_count": 41,
   "metadata": {},
   "outputs": [
    {
     "data": {
      "image/png": "[encoded data removed]",
      "text/plain": [
       "<Figure size 432x288 with 1 Axes>"
      ]
     },
     "metadata": {
      "needs_background": "light"
     },
     "output_type": "display_data"
    }
   ],
   "source": [
    "from scipy import stats\n",
    "\n",
    "theta_true = 0.8 # as an example\n",
    "n = 32 # as an example\n",
    "k = ... # your code here\n",
    "\n",
    "\n",
    "def plot_likelihood(n, k, theta_true):\n",
    "    theta = np.linspace(0, 1, 100)\n",
    "    \n",
    "    # compute and plot the likelihood function\n",
    "    ... # your code here\n",
    "    \n",
    "    plt.axvline(theta_true, label=r\"$\\theta$\", linestyle=\"--\")\n",
    "    \n",
    "    plt.legend()\n",
    "    plt.xlabel(r\"$\\theta$\")\n",
    "    plt.ylabel(r\"$p(k | \\theta)$\")\n",
    "\n",
    "plot_likelihood(n, k, theta_true)"
   ]
  },
  {
   "cell_type": "markdown",
   "metadata": {},
   "source": [
    "Now, repeat this process 100 times:\n",
    "1. Sample $k$ for a given $n$ and $\\theta$\n",
    "2. Compute the maximum likelihood estimate $\\hat\\theta$\n",
    "\n",
    "Collect your results in a `numpy.array` and try to answer the following questions: Is the maximum likelihood estimate of $\\theta$ \"correct\" on average? How does the number of trials $n$ influence this?"
   ]
  },
  {
   "cell_type": "code",
   "execution_count": null,
   "metadata": {},
   "outputs": [],
   "source": [
    "# your code here"
   ]
  },
  {
   "cell_type": "markdown",
   "metadata": {},
   "source": [
    "# Maximum Likelihood II\n",
    "\n",
    "## Gaussian distribution\n",
    "\n",
    "Now, we are doing basically the same thing for the Gaussian distribution. \n",
    "\n",
    "1. Generate some data $D = \\{x_1, \\dots, x_n\\}$ from a Gaussian distribution with a true mean $\\mu$ of your choice and standard deviation fiexed at $\\sigma = 1$, see https://docs.scipy.org/doc/scipy/reference/generated/scipy.stats.norm.html\n",
    "2. Plot a histogram of the data\n",
    "3. Based on these data, what should your estimate $\\hat \\mu$ about the mean be, intuitively?"
   ]
  },
  {
   "cell_type": "code",
   "execution_count": 1,
   "metadata": {},
   "outputs": [
    {
     "data": {
      "text/plain": [
       "Ellipsis"
      ]
     },
     "execution_count": 1,
     "metadata": {},
     "output_type": "execute_result"
    }
   ],
   "source": [
    "n = 25\n",
    "mu_true = 10 # for example\n",
    "\n",
    "# your code here\n",
    "x = ...\n",
    "\n",
    "..."
   ]
  },
  {
   "cell_type": "markdown",
   "metadata": {},
   "source": [
    "### Likelihood function\n",
    "\n",
    "1. Compute the likelihood function $p(D \\, | \\, \\mu)$ for a range of different values for $\\mu$. Use the fact that the individual data points $x_i$ are identically and independently distributed (i.i.d.)\n",
    "2. Plot the likelihood function. Where is its maximum at?"
   ]
  },
  {
   "cell_type": "code",
   "execution_count": null,
   "metadata": {},
   "outputs": [],
   "source": [
    "# your code here"
   ]
  }
 ],
 "metadata": {
  "kernelspec": {
   "display_name": "Python 3",
   "language": "python",
   "name": "python3"
  },
  "language_info": {
   "codemirror_mode": {
    "name": "ipython",
    "version": 3
   },
   "file_extension": ".py",
   "mimetype": "text/x-python",
   "name": "python",
   "nbconvert_exporter": "python",
   "pygments_lexer": "ipython3",
   "version": "3.8.8"
  }
 },
 "nbformat": 4,
 "nbformat_minor": 4
}
