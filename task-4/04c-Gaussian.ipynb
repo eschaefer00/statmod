{
 "cells": [
  {
   "cell_type": "code",
   "execution_count": 1,
   "metadata": {
    "ExecuteTime": {
     "end_time": "2024-05-05T17:33:13.193483Z",
     "start_time": "2024-05-05T17:33:12.656724Z"
    }
   },
   "outputs": [],
   "source": [
    "import numpy as np\n",
    "import matplotlib.pyplot as plt\n",
    "\n",
    "from ipywidgets import interact\n",
    "import ipywidgets as widgets"
   ]
  },
  {
   "cell_type": "markdown",
   "metadata": {},
   "source": [
    "# Bayesian treatment of single-paramter models"
   ]
  },
  {
   "cell_type": "markdown",
   "metadata": {},
   "source": [
    "## 3 Gaussian distribution with unknown mean and known standard deviation\n",
    "\n",
    "In week 02, we have looked at samples from a Gaussian distribution. Let's get back to this example but make it a little more concrete. \n",
    "\n",
    "Imagine you moved into a new apartment. Your landlord told you that the longest side of your living room is 8 m long, but you do not quite trust him. So you decide to measure for yourself. The problem is, you only have a small measuring tape, so your measurements are not quite accurate, so you assume that your measurements are noisy with a standard deviation of $\\sigma = 0.2$. To be extra sure, you measure the length of the room $N = 5$ times and get a distribution of measurements, which are plotted as ticks on the x-axis in the following cell. The curve is the likelihood function, expressing for different values $\\mu$ on the x-axis, how likely the observed data are, assuming they were generated from this $\\mu$:\n",
    "\n",
    "$$ L(D; \\mu) =\\prod_n p(x_n | \\mu, \\sigma)=\\prod_n \\mathcal{N}(x_n | \\mu, \\sigma) $$"
   ]
  },
  {
   "cell_type": "code",
   "execution_count": 6,
   "metadata": {},
   "outputs": [
    {
     "data": {
      "image/png": "[encoded data removed]",
      "text/plain": [
       "<Figure size 432x288 with 1 Axes>"
      ]
     },
     "metadata": {
      "needs_background": "light"
     },
     "output_type": "display_data"
    }
   ],
   "source": [
    "from scipy.stats import norm\n",
    "\n",
    "mean = 7.5 # true mean (not known to us)\n",
    "\n",
    "sigma = 0.2 # noise in our measurement\n",
    "N = 5 # number of measurements\n",
    "x = np.random.randn(N) * sigma + mean\n",
    "\n",
    "# for plotting\n",
    "xrange = np.linspace(6, 9, 100)\n",
    "\n",
    "def gaussian_likelihood(x, mu, sigma):\n",
    "    ll = np.sum(np.array([norm.logpdf(xi, loc=mu, scale=sigma) for xi in x]), axis=0)\n",
    "    return np.exp(ll)\n",
    "\n",
    "# plot the likelihood\n",
    "plt.plot(xrange, gaussian_likelihood(x, xrange, sigma), label=\"Likelihood\", color=\"C0\")\n",
    "\n",
    "# plot the data as ticks on the x axis\n",
    "plt.xticks(np.sort(x), labels = np.array([round(min(x), 1)]+[None for _ in range(len(x)-2)]+[round(max(x), 1)]))\n",
    "plt.tick_params(axis=\"x\", direction=\"inout\", width=1, length=10, color=\"C0\")\n",
    "\n",
    "plt.xlim(6, 9)\n",
    "plt.legend(frameon=False)\n",
    "plt.show()"
   ]
  },
  {
   "cell_type": "markdown",
   "metadata": {},
   "source": [
    "If all we have is the sample, the MLE is the best we can do. But we can also use our prior knowledge. We know that the landlord told us our room is 8 m long, so we express this as a prior distribution. For mathematical convenience, we express this as a Gaussian with $\\mu_0 = 8$. We use a standard deviation $\\sigma_0 = 1$, expressing that we are rather unsure about our landlord's statement."
   ]
  },
  {
   "cell_type": "code",
   "execution_count": 7,
   "metadata": {},
   "outputs": [
    {
     "data": {
      "image/png": "[encoded data removed]",
      "text/plain": [
       "<Figure size 432x288 with 1 Axes>"
      ]
     },
     "metadata": {
      "needs_background": "light"
     },
     "output_type": "display_data"
    }
   ],
   "source": [
    "mu_0 = 8\n",
    "sigma_0 = 1.\n",
    "\n",
    "xrange = np.linspace(6, 11, 100)\n",
    "\n",
    "# plot the likelihood\n",
    "plt.plot(xrange, gaussian_likelihood(x, xrange, sigma), label=\"Likelihood\", color=\"C0\")\n",
    "\n",
    "# plot the data as ticks on the x axis\n",
    "plt.xticks(np.sort(x), labels=np.array([round(min(x), 1)]+[None for _ in range(len(x)-2)]+[round(max(x), 1)]))\n",
    "plt.tick_params(axis=\"x\", direction=\"inout\", width=1, length=10, color=\"C0\")\n",
    "\n",
    "# plot the prior\n",
    "plt.plot(xrange, norm.pdf(xrange, loc=mu_0, scale=sigma_0), label=\"Prior\", color=\"C2\")\n",
    "plt.legend(frameon=False)\n",
    "plt.xlim(6, 9)\n",
    "plt.show()"
   ]
  },
  {
   "cell_type": "markdown",
   "metadata": {},
   "source": [
    "What should we think the size of our room is, given our prior knowledge and the data we observed? The answer is given by Bayes' rule:\n",
    "\n",
    "$$ p(\\mu | D, \\sigma) \\propto p(D | \\mu, \\sigma) p(\\mu_0 | \\sigma_0) $$\n",
    "\n",
    "We can safely assume that our prior knowledge about the mean is independent from the noise in our measurements, so\n",
    "\n",
    "$$ p(\\mu | D, \\sigma) \\propto p(D | \\mu, \\sigma) p(\\mu_0) $$\n",
    "\n",
    "Since the product of two Gaussians is again Gaussian, we arrive at \n",
    "\n",
    "$$ p(\\mu | D, \\sigma) = \\mathcal{N}(\\mu | \\mu_\\text{post}, \\sigma_\\text{post}) $$\n",
    "\n",
    "with $\\sigma_\\text{post}^2 = (\\frac{1}{\\sigma_0^2} + \\frac{n}{\\sigma^2})^{-1}$ and $\\mu_\\text{post} = \\sigma_\\text{post}^2 (\\frac{\\mu_0}{\\sigma_0^2} + \\frac{\\sum_n x_n}{\\sigma^2}) $. You will show this in your practical assignment.\n",
    "\n",
    "__Note that you can see another conjugate distribution pair here!__"
   ]
  },
  {
   "cell_type": "code",
   "execution_count": 8,
   "metadata": {},
   "outputs": [
    {
     "data": {
      "application/vnd.jupyter.widget-view+json": {
       "model_id": "7485d23b378846a2858258143324c554",
       "version_major": 2,
       "version_minor": 0
      },
      "text/plain": [
       "interactive(children=(FloatSlider(value=0.55, description='sigma', max=1.0, min=0.1), FloatSlider(value=0.55, …"
      ]
     },
     "metadata": {},
     "output_type": "display_data"
    }
   ],
   "source": [
    "# Play around with standard deviation of likelihood and prior!\n",
    "@interact(sigma=(0.1, 1.0), sigma_0=(0.1, 1.0), mu_0=(8, 10))\n",
    "def update(sigma, sigma_0, mu_0):\n",
    "    # plot the likelihood\n",
    "    plt.plot(xrange, gaussian_likelihood(x, xrange, sigma), label=\"Likelihood\", color=\"C0\")\n",
    "\n",
    "    # plot the data as ticks on the x axis\n",
    "    plt.xticks(np.sort(x), labels=np.array([round(min(x), 1)]+[None for _ in range(len(x)-2)]+[round(max(x), 1)]))\n",
    "    plt.tick_params(axis=\"x\", direction=\"inout\", width=1, length=10, color=\"C0\")\n",
    "\n",
    "    # plot the prior\n",
    "    plt.plot(xrange, norm.pdf(xrange, loc=mu_0, scale=sigma_0), label=\"Prior\", color=\"C2\")\n",
    "\n",
    "    # compute and plot the posterior mean\n",
    "    ... # your code here\n",
    "\n",
    "    plt.legend(frameon=False)\n",
    "    plt.xlim(6, 10)\n",
    "    plt.show()"
   ]
  },
  {
   "cell_type": "code",
   "execution_count": null,
   "metadata": {},
   "outputs": [],
   "source": []
  }
 ],
 "metadata": {
  "kernelspec": {
   "display_name": "Python 3",
   "language": "python",
   "name": "python3"
  },
  "language_info": {
   "codemirror_mode": {
    "name": "ipython",
    "version": 3
   },
   "file_extension": ".py",
   "mimetype": "text/x-python",
   "name": "python",
   "nbconvert_exporter": "python",
   "pygments_lexer": "ipython3",
   "version": "3.8.8"
  }
 },
 "nbformat": 4,
 "nbformat_minor": 4
}
