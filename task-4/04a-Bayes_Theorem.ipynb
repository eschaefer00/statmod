{
 "cells": [
  {
   "cell_type": "code",
   "execution_count": 22,
   "metadata": {
    "ExecuteTime": {
     "end_time": "2024-05-06T12:53:30.163983Z",
     "start_time": "2024-05-06T12:53:30.152307Z"
    }
   },
   "outputs": [],
   "source": [
    "import numpy as np\n",
    "import matplotlib.pyplot as plt\n",
    "\n",
    "from ipywidgets import interact\n",
    "import ipywidgets as widgets"
   ]
  },
  {
   "cell_type": "markdown",
   "metadata": {},
   "source": [
    "# Bayes' Theorem\n",
    "\n",
    "Bayes' theorem is one of the fundamental rules of probabilities. Mathematically, it is as simple as applying the Chain rule twice\n",
    "\n",
    "\\begin{align}\n",
    "    P(A, B) = P(B | A) P(A) \\\\\n",
    "    P(A, B) = P(A | B) P(B),\n",
    "\\end{align}\n",
    "\n",
    "setting these two equal and rearranging the terms\n",
    "\n",
    "\\begin{align}\n",
    "    P(A | B) = \\frac{P(B | A) P(A)}{P(B)}.\n",
    "\\end{align}\n",
    "\n",
    "Despite its simplicity it is one of the most powerful tools to analyzing data and modeling cognition, as we will see in the following weeks. Bayes' rule gives us a method for inferring the probability of $A$ given $B$ from the probability of $B$ given $A$. This is what we call Bayesian inference.\n",
    "\n",
    "From the scientists' point of view, $B$ is often some measurement in a study and $A$ is a parameter of a model. The likelihood $P(B | A)$ then tells you how likely the measurements you made are given different parameter values. Often, we have prior knowledge (e.g. from previous studies or from theoretical considerations), which we can quantify in a prior distribution $P(A)$. What we are then interested in, is the posterior probability of the parameter $A$ given the data we have observed.\n",
    "\n",
    "Let's make this more concrete with an example.\n",
    "\n"
   ]
  },
  {
   "cell_type": "markdown",
   "metadata": {},
   "source": [
    "## Baggage Claim Example\n",
    "\n",
    "Suppose you are out of town and have just landed back at the airport. With you, 99 other passengers have traveled, each has a suitcase with them and now you are all waiting at the baggage claim. You have noticed lately that your suitcase model is very popular and about $k\\%$ also own this model. Now you are waiting at the baggage carousel and you just see the $n$-th suitcase coming out. Since you are standing a little far away, you cannot see any peculiarities that would allow you to identify your suitcase. You can only see whether it is your model or not. What is the probability that it really is your suitcase? We want to deal with this question with Bayes' theorem.\n"
   ]
  },
  {
   "cell_type": "markdown",
   "metadata": {},
   "source": [
    "### Prior\n",
    "What is your previous knowledge in this scene? You' re expecting the suitcases to be placed on the baggage carousel in the same way. So, if you see the $n$-th suitcase and your suitcase was not yet there, then statistically speaking this suitcase should be yours with a probability of $1/(100-n+1)$. We can define this in Prior in this way."
   ]
  },
  {
   "cell_type": "code",
   "execution_count": 23,
   "metadata": {
    "ExecuteTime": {
     "end_time": "2024-05-06T12:53:30.175420Z",
     "start_time": "2024-05-06T12:53:30.161220Z"
    }
   },
   "outputs": [],
   "source": [
    "def prior(n):\n",
    "    return 1/(100-n+1), 1-1/(100-n+1)"
   ]
  },
  {
   "cell_type": "markdown",
   "metadata": {},
   "source": [
    "### Likelihood\n",
    "\n",
    "You will now see any case that corresponds to your model. So you make a sensory measurement that this is exactly your suitcase model and therefore could actually be your suitcase. Under the hypothesis that this is your suitcase, the likelihood returns 1 when you see the actual model. Under the hypothesis that this is not your suitcase, then you know that k% of the other passengers also have this suitcase and the probability that this data point occurs under the hypothesis is only k%.\n",
    "\n",
    "Please note two important findings here:\n",
    "\n",
    "1. the likelihood depends on the underlying hypothesis (here \"my suitcase\" vs. \"not my suitcase\")\n",
    "\n",
    "2. the likelihood, unlike the prior, does not add up to 1! It is not a probability distribution but a function."
   ]
  },
  {
   "cell_type": "code",
   "execution_count": 24,
   "metadata": {
    "ExecuteTime": {
     "end_time": "2024-05-06T12:53:30.180553Z",
     "start_time": "2024-05-06T12:53:30.165673Z"
    }
   },
   "outputs": [],
   "source": [
    "def likelihood(k):\n",
    "    return 1.0,k"
   ]
  },
  {
   "cell_type": "markdown",
   "metadata": {},
   "source": [
    "### Posterior\n",
    "Using the Bayes Theorem we can now determine the posterior."
   ]
  },
  {
   "cell_type": "code",
   "execution_count": 25,
   "metadata": {
    "ExecuteTime": {
     "end_time": "2024-05-06T12:53:30.189922Z",
     "start_time": "2024-05-06T12:53:30.169931Z"
    }
   },
   "outputs": [],
   "source": [
    "def posterior(n,k):\n",
    "    like1,like2 = likelihood(k)\n",
    "    prior1,prior2 = prior(n)\n",
    "    post1 = like1*prior1 / (like1*prior1+like2*prior2)\n",
    "    post2 = like2*prior2 / (like2*prior2+like1*prior1)\n",
    "    print(post1)\n",
    "    return post1,post2"
   ]
  },
  {
   "cell_type": "markdown",
   "metadata": {},
   "source": [
    "### Visualization\n",
    "\n",
    "In the following you will find the three components of the Bayes Theorem presented as a bar chart. You can play around with the parameters n and k to observe the effects.\n",
    "\n",
    "1. check again with pen and paper that the outputted probabilities for the posterior are correct\n",
    "\n",
    "2. what can you say about the influence of the prior and likelihood on the overall result?\n",
    "\n",
    "3. consider in this baggage example which factors could influence the Prior and the Likelihood respectively."
   ]
  },
  {
   "cell_type": "code",
   "execution_count": 34,
   "metadata": {
    "ExecuteTime": {
     "end_time": "2024-05-06T13:21:06.806097Z",
     "start_time": "2024-05-06T13:21:06.629993Z"
    }
   },
   "outputs": [
    {
     "data": {
      "text/plain": "<Figure size 640x480 with 2 Axes>",
      "image/png": "[encoded data removed]"
     },
     "metadata": {},
     "output_type": "display_data"
    },
    {
     "name": "stdout",
     "output_type": "stream",
     "text": [
      "1.0\n"
     ]
    },
    {
     "data": {
      "text/plain": "<Figure size 640x480 with 1 Axes>",
      "image/png": "[encoded data removed]"
     },
     "metadata": {},
     "output_type": "display_data"
    }
   ],
   "source": [
    "def visualize_posterior(n,k):\n",
    "    # plot prior\n",
    "    plt.subplot(1,2,1)\n",
    "    plt.bar((0,1),prior(n), color = 'lightcoral')\n",
    "    plt.ylim([0,1])\n",
    "    plt.title(\"Prior PDF\")\n",
    "    # plot likelihood\n",
    "    plt.subplot(1,2,2)\n",
    "    plt.bar((0,1),likelihood(k))\n",
    "    plt.ylim([0,1])\n",
    "    plt.title(\"Likelihood Function\")\n",
    "    plt.show()\n",
    "    # plot posterior\n",
    "    post = posterior(n,k)\n",
    "    plt.bar((0,1),post,color = 'plum')\n",
    "    plt.ylim([0,1])\n",
    "    plt.title(\"Posterior PDF\")\n",
    "    plt.show()\n",
    "    \n",
    "visualize_posterior(n=100, k=5)\n",
    "\n",
    "\n",
    "\n",
    "# interact(visualize_posterior, \n",
    "  #        n = widgets.FloatSlider(value=1, min=1, max=100, step=10, description=\"$n$\"),\n",
    "    #      k = widgets.FloatSlider(value=0.05, min=0.01, max=1.0, step=0.10, description=\"$k$\"));"
   ]
  },
  {
   "cell_type": "code",
   "execution_count": 39,
   "outputs": [
    {
     "name": "stdout",
     "output_type": "stream",
     "text": [
      "1.0 0.0\n",
      "1.0 5\n",
      "1.0\n",
      "1.0 0.0\n",
      "1.0\n",
      "1.0 0.0\n"
     ]
    }
   ],
   "source": [
    "prior1, prior2 = prior(100)\n",
    "print(prior1, prior2)\n",
    "\n",
    "like1, like2 = likelihood(5)\n",
    "print(like1, like2)\n",
    "\n",
    "posterior1, posterior2 = posterior(100, 5)\n",
    "print(posterior1, posterior2)\n",
    "\n",
    "posterior1, posterior2 = posterior(100, 0.05)\n",
    "print(posterior1, posterior2)"
   ],
   "metadata": {
    "collapsed": false,
    "ExecuteTime": {
     "end_time": "2024-05-06T13:26:17.007678Z",
     "start_time": "2024-05-06T13:26:16.997361Z"
    }
   }
  },
  {
   "cell_type": "code",
   "execution_count": null,
   "outputs": [],
   "source": [],
   "metadata": {
    "collapsed": false
   }
  }
 ],
 "metadata": {
  "kernelspec": {
   "display_name": "Python 3",
   "language": "python",
   "name": "python3"
  },
  "language_info": {
   "codemirror_mode": {
    "name": "ipython",
    "version": 3
   },
   "file_extension": ".py",
   "mimetype": "text/x-python",
   "name": "python",
   "nbconvert_exporter": "python",
   "pygments_lexer": "ipython3",
   "version": "3.7.6"
  }
 },
 "nbformat": 4,
 "nbformat_minor": 4
}
